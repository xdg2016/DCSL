{
 "cells": [
  {
   "cell_type": "code",
   "execution_count": 1,
   "metadata": {},
   "outputs": [],
   "source": [
    "from eval_cuhk03 import *\n",
    "import pickle\n",
    "cmcDict={}"
   ]
  },
  {
   "cell_type": "code",
   "execution_count": 2,
   "metadata": {
    "scrolled": false
   },
   "outputs": [
    {
     "name": "stdout",
     "output_type": "stream",
     "text": [
      "../../dataset/cuhk03/cuhk03_release/exp_set/set01_test_noval.txt\n",
      "\n",
      "Round 0 with rand list:\n",
      "  Processing 100x100 pairs cost 16.870679 second time\n",
      "Round 1 with rand list:\n",
      "  Processing 100x100 pairs cost 18.278881 second time\n",
      "Round 2 with rand list:\n",
      "  Processing 100x100 pairs cost 19.169126 second time\n",
      "Round 3 with rand list:\n",
      "  Processing 100x100 pairs cost 19.176093 second time\n",
      "Round 4 with rand list:\n",
      "  Processing 100x100 pairs cost 19.140747 second time\n",
      "Round 5 with rand list:\n",
      "  Processing 100x100 pairs cost 19.191972 second time\n",
      "Round 6 with rand list:\n",
      "  Processing 100x100 pairs cost 19.150294 second time\n",
      "Round 7 with rand list:\n",
      "  Processing 100x100 pairs cost 19.163812 second time\n",
      "Round 8 with rand list:\n",
      "  Processing 100x100 pairs cost 19.587156 second time\n",
      "Round 9 with rand list:\n",
      "  Processing 100x100 pairs cost 19.625796 second time\n",
      "[ 0.388  0.543  0.623  0.678  0.717  0.746  0.773  0.797  0.816  0.834\n",
      "  0.846  0.861  0.87   0.876  0.888  0.897  0.903  0.911  0.922  0.927\n",
      "  0.934  0.937  0.939  0.941  0.944  0.951  0.956  0.961  0.963  0.965\n",
      "  0.968  0.97   0.972  0.972  0.973  0.975  0.976  0.977  0.977  0.979\n",
      "  0.98   0.982  0.984  0.985  0.986  0.986  0.986  0.986  0.986  0.987\n",
      "  0.987  0.987  0.987  0.987  0.987  0.987  0.987  0.988  0.988  0.989\n",
      "  0.989  0.989  0.989  0.989  0.989  0.989  0.989  0.989  0.989  0.989\n",
      "  0.989  0.989  0.99   0.99   0.99   0.99   0.99   0.991  0.991  0.992\n",
      "  0.993  0.993  0.994  0.994  0.994  0.994  0.994  0.994  0.994  0.994\n",
      "  0.995  0.995  0.998  1.     1.     1.     1.     1.     1.     1.   ]\n",
      "\n",
      "CMC from rank 1 to rank 100:\n",
      "[ 0.388  0.543  0.623  0.678  0.717  0.746  0.773  0.797  0.816  0.834\n",
      "  0.846  0.861  0.87   0.876  0.888  0.897  0.903  0.911  0.922  0.927\n",
      "  0.934  0.937  0.939  0.941  0.944  0.951  0.956  0.961  0.963  0.965\n",
      "  0.968  0.97   0.972  0.972  0.973  0.975  0.976  0.977  0.977  0.979\n",
      "  0.98   0.982  0.984  0.985  0.986  0.986  0.986  0.986  0.986  0.987\n",
      "  0.987  0.987  0.987  0.987  0.987  0.987  0.987  0.988  0.988  0.989\n",
      "  0.989  0.989  0.989  0.989  0.989  0.989  0.989  0.989  0.989  0.989\n",
      "  0.989  0.989  0.99   0.99   0.99   0.99   0.99   0.991  0.991  0.992\n",
      "  0.993  0.993  0.994  0.994  0.994  0.994  0.994  0.994  0.994  0.994\n",
      "  0.995  0.995  0.998  1.     1.     1.     1.     1.     1.     1.   ]\n"
     ]
    }
   ],
   "source": [
    "test_list=range(1,2) #use set 1-10 for test (total 20)\n",
    "cmc_list=[]\n",
    "for set_no in test_list:\n",
    "    MODEL_FILE = '/mnt/disk01/image_aggregation/models/person_search/deploy_image.prototxt'\n",
    "    PRETRAINED = '/mnt/disk01/image_aggregation/output/person_search/stage1/train_person_search_img_iter_70000.caffemodel'\n",
    "    caffe.set_device(1)\n",
    "    caffe.set_mode_gpu()\n",
    "    net = caffe.Classifier(MODEL_FILE, PRETRAINED,caffe.TEST)\n",
    "    #caculate CMC\n",
    "    cmc=calCMC(net,set_no,rand_times=10)\n",
    "    cmc_list.append(cmc)\n",
    "    print cmc\n",
    "    cmc_all=np.average(cmc_list,axis=0)\n",
    "print('\\nCMC from rank 1 to rank %d:'%(len(cmc_all)))\n",
    "print(cmc_all)\n",
    "cmcDict['ours (GN, hnm)'] = cmc_all"
   ]
  },
  {
   "cell_type": "code",
   "execution_count": null,
   "metadata": {
    "scrolled": false
   },
   "outputs": [],
   "source": [
    "import matplotlib.pyplot as plt\n",
    "import cv2\n",
    "get_ipython().magic(u'matplotlib inline')\n",
    "top_k = 10\n",
    "imshow = 100\n",
    "img_num = 0\n",
    "plt.figure(figsize=(top_k*2,imshow*4))\n",
    "\n",
    "for i in range(imshow):\n",
    "    image_name = probes[i]\n",
    "    \n",
    "    plt.subplot(imshow,top_k+1,img_num+1)\n",
    "    plt.imshow(im_read(image_name))\n",
    "    frame = plt.gca()\n",
    "    frame.axes.get_xaxis().set_visible(False)\n",
    "    frame.axes.get_yaxis().set_visible(False)\n",
    "    frame.axes.xaxis.set_tick_params([])\n",
    "    frame.axes.yaxis.set_tick_params([])\n",
    "    for key in frame.spines.keys():\n",
    "        obj=frame.spines[key]\n",
    "        obj.set_linewidth(4)\n",
    "        obj.set_color('b')\n",
    "    img_num+=1\n",
    "    for j in range(top_k):\n",
    "    \n",
    "        image_name = gallerys[predictLists[i][j]]\n",
    "        \n",
    "        plt.subplot(imshow,top_k+1,img_num+1)\n",
    "        plt.imshow(im_read(image_name))\n",
    "        frame = plt.gca()\n",
    "        frame.axes.get_xaxis().set_visible(False)\n",
    "        frame.axes.get_yaxis().set_visible(False)\n",
    "        frame.axes.xaxis.set_tick_params([])\n",
    "        frame.axes.yaxis.set_tick_params([])\n",
    "        if i==predictLists[i][j]:\n",
    "            for key in frame.spines.keys():\n",
    "                obj=frame.spines[key]\n",
    "                obj.set_linewidth(4)\n",
    "                obj.set_color('g')\n",
    "        img_num+=1"
   ]
  },
  {
   "cell_type": "code",
   "execution_count": null,
   "metadata": {
    "collapsed": true
   },
   "outputs": [],
   "source": []
  }
 ],
 "metadata": {
  "kernelspec": {
   "display_name": "Python 2",
   "language": "python",
   "name": "python2"
  },
  "language_info": {
   "codemirror_mode": {
    "name": "ipython",
    "version": 2
   },
   "file_extension": ".py",
   "mimetype": "text/x-python",
   "name": "python",
   "nbconvert_exporter": "python",
   "pygments_lexer": "ipython2",
   "version": "2.7.6"
  }
 },
 "nbformat": 4,
 "nbformat_minor": 1
}
