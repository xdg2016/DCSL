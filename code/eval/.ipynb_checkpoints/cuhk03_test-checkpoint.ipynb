{
 "cells": [
  {
   "cell_type": "code",
   "execution_count": 1,
   "metadata": {
    "collapsed": false
   },
   "outputs": [],
   "source": [
    "from eval_cuhk03 import *\n",
    "import pickle\n",
    "cmcDict={}\n",
    "from tabulate import tabulate"
   ]
  },
  {
   "cell_type": "code",
   "execution_count": 2,
   "metadata": {
    "collapsed": false
   },
   "outputs": [],
   "source": [
    "from tabulate import tabulate\n",
    "import scipy.io as sio\n",
    "\n",
    "\n",
    "\n",
    "f2 = open(\"res_cuhk03.txt\",\"rb\")\n",
    "load_list = pickle.load(f2)\n",
    "f2.close()\n",
    "load_dict = dict(load_list)\n",
    "data = sio.loadmat('cuhk03_labeled.mat')['data']\n",
    "\n",
    "load_dict['ImprovedDL'] = data[0]\n",
    "load_dict['KISSME'] = data[1]\n",
    "load_dict['eSDC'] = data[2]\n",
    "load_dict['SDALF'] = data[3]\n",
    "load_dict['LDM'] = data[4]\n",
    "load_dict['RANK'] = data[5]\n",
    "load_dict['LMNN'] = data[6]\n",
    "load_dict['ITML'] = data[7]\n",
    "load_dict['Euclid'] = data[8]\n",
    "load_dict['FPNN'] = data[9]\n",
    "\n",
    "# methods = ['ours (GN, hnm)','ImprovedDL','KISSME','FPNN','LDM']\n",
    "# table = []\n",
    "# for mtd in methods:\n",
    "#     this_list = []\n",
    "#     this_list.append(mtd)\n",
    "#     this_list.append(load_dict[mtd][0]*100)\n",
    "#     this_list.append(load_dict[mtd][1]*100)\n",
    "#     this_list.append(load_dict[mtd][4]*100)\n",
    "#     this_list.append(load_dict[mtd][9]*100)\n",
    "#     table.append(this_list)\n",
    "\n",
    "# print table"
   ]
  },
  {
   "cell_type": "code",
   "execution_count": 3,
   "metadata": {
    "collapsed": true
   },
   "outputs": [],
   "source": [
    "f2 = open(\"res_cuhk01_100id.txt\",\"rb\")\n",
    "load_list_2 = pickle.load(f2)\n",
    "f2.close()\n",
    "f2 = open(\"res_cuhk01_486id.txt\",\"rb\")\n",
    "load_list_3 = pickle.load(f2)\n",
    "f2.close()\n",
    "f2 = open(\"res_viper.txt\",\"rb\")\n",
    "load_list_4 = pickle.load(f2)\n",
    "f2.close()"
   ]
  },
  {
   "cell_type": "code",
   "execution_count": 4,
   "metadata": {
    "collapsed": true
   },
   "outputs": [],
   "source": [
    "load_dict_2 = dict(load_list_2)\n",
    "\n",
    "data = sio.loadmat('/mnt/share/Temp/reid_mat/cuhk01_100ID.mat')['data']\n",
    "\n",
    "load_dict_2['ImprovedDL'] = data[0]\n",
    "load_dict_2['KISSME'] = data[1]\n",
    "# cmcDict['eSDC'] = data[2]\n",
    "#cmcDict['SDALF'] = data[3]\n",
    "load_dict_2['LDM'] = data[4]\n",
    "#cmcDict['RANK'] = data[5]\n",
    "load_dict_2['LMNN'] = data[6]\n",
    "#cmcDict['ITML'] = data[7]\n",
    "#cmcDict['Euclid'] = data[8]\n",
    "load_dict_2['FPNN'] = data[9]\n",
    "\n",
    "# methods = ['ours (GN, hnm)','ImprovedDL','KISSME','FPNN','LDM']\n",
    "# table = []\n",
    "# for mtd in methods:\n",
    "#     this_list = []\n",
    "#     this_list.append(mtd)\n",
    "#     this_list.append(load_dict[mtd][0]*100)\n",
    "#     this_list.append(load_dict[mtd][1]*100)\n",
    "#     this_list.append(load_dict[mtd][4]*100)\n",
    "#     this_list.append(load_dict[mtd][9]*100)\n",
    "#     table.append(this_list)"
   ]
  },
  {
   "cell_type": "code",
   "execution_count": 5,
   "metadata": {
    "collapsed": true
   },
   "outputs": [],
   "source": [
    "load_dict_3 = dict(load_list_3)\n",
    "\n",
    "data = sio.loadmat('/mnt/share/Temp/reid_mat/cuhk01_486ID.mat')['data']\n",
    "\n",
    "load_dict_3['ImprovedDL'] = data[0]/100\n",
    "#cmcDict['visWord'] = data[1]/100\n",
    "#cmcDict['l1-norm'] = data[2]\n",
    "#cmcDict['l2-norm'] = data[3]\n",
    "#cmcDict['SDALF'] = data[4]\n",
    "load_dict_3['eSDC'] = data[5]/100\n",
    "load_dict_3['LMNN'] = data[6]/100\n",
    "#cmcDict['ITML'] = data[7]\n",
    "#load_dict_3['genericmetric'] = data[8]\n",
    "load_dict_3['PatMatch'] = data[9]/100\n",
    "load_dict_3['SalMatch'] = data[10]/100\n",
    "load_dict_3['mFilter'] = data[11]/100\n",
    "load_dict_3['KISSME'] = data[11]*0\n",
    "load_dict_3['FPNN'] = data[11]*0\n",
    "load_dict_3['LDM'] = data[11]*0"
   ]
  },
  {
   "cell_type": "code",
   "execution_count": 8,
   "metadata": {
    "collapsed": true
   },
   "outputs": [],
   "source": [
    "load_dict_4 = dict(load_list_4)\n",
    "data = sio.loadmat('/mnt/share/Temp/reid_mat/VIPER.mat')['data']\n",
    "\n",
    "load_dict_4['ImprovedDL'] = data[0]/100\n",
    "load_dict_4['KISSME'] = data[11]/100\n",
    "load_dict_4['eSDC'] = data[2]/100\n",
    "#cmcDict['SDALF'] = data[3]\n",
    "load_dict_4['LDM'] = data[4]/100\n",
    "#cmcDict['RANK'] = data[5]\n",
    "load_dict_4['LMNN'] = data[6]/100\n",
    "#cmcDict['ITML'] = data[7]\n",
    "#cmcDict['Euclid'] = data[8]\n",
    "load_dict_4['FPNN'] = data[9]/100\n",
    "load_dict_4['mFilter + LADF'] = data[17]/100\n",
    "#plot the dictionary, sorted by rank1 rate\n"
   ]
  },
  {
   "cell_type": "code",
   "execution_count": 9,
   "metadata": {
    "collapsed": false
   },
   "outputs": [
    {
     "name": "stdout",
     "output_type": "stream",
     "text": [
      "[['ours (GN, hnm)', 80.199999999999989, 91.833333333333329, 97.733333333333334, 99.166666666666671, 89.600000000000009, 95.699999999999989, 97.799999999999997, 98.900000000000006, 76.543209876543216, 85.432098765432102, 94.238683127572003, 97.489711934156361, 44.620253164556964, 57.911392405063289, 73.417721518987349, 82.594936708860757], ['ImprovedDL', 54.742616033755276, 70.042194092827003, 86.497890295358644, 93.881856540084385, 65.0, 75.0, 89.0, 94.0, 47.530864197530867, 57.613168724279838, 71.604938271604937, 80.246913580246911, 34.810126582278485, 43.670886075949369, 63.607594936708857, 75.632911392405063], ['KISSME', 14.174376191491135, 22.301028121309695, 37.459730978879676, 52.198067376756249, 29.400750000000002, 41.744250000000008, 60.175500000000007, 74.443750000000023, 0.0, 0.0, 0.0, 0.0, 19.600000000000001, 28.323266129032259, 48.0, 62.200000000000003], ['FPNN', 20.652338253514696, 32.533816482852231, 50.94374298737312, 67.007482545006752, 27.872727238227448, 40.643512596283919, 59.637033384537666, 73.529467481223634, 0.0, 0.0, 0.0, 0.0, 16.140000000000001, 22.557038442310024, 37.719999999999999, 50.97999999999999], ['LDM', 13.512916787096401, 21.743452220880112, 37.132128349911653, 52.70308382843394, 26.445999999999998, 39.068999999999996, 57.686999999999991, 72.784999999999982, 0.0, 0.0, 0.0, 0.0, 30.696202531645572, 43.35443037974683, 62.974683544303801, 75.949367088607602], ['LMNN', 7.2859076780728378, 11.18248112747856, 19.636779352970706, 30.738600774126741, 21.169500000000003, 31.653999999999993, 48.514249999999997, 62.984500000000011, 13.449367088607596, 20.411392405063289, 31.329113924050635, 42.246835443037973, 20.66, 26.91772772020191, 42.0, 56.18]]\n"
     ]
    }
   ],
   "source": [
    "methods = ['ours (GN, hnm)','ImprovedDL','KISSME','FPNN','LDM','LMNN']\n",
    "table = []\n",
    "for mtd in methods:\n",
    "    this_list = []\n",
    "    this_list.append(mtd)\n",
    "    this_list.append(load_dict[mtd][0]*100)\n",
    "    this_list.append(load_dict[mtd][1]*100)\n",
    "    this_list.append(load_dict[mtd][4]*100)\n",
    "    this_list.append(load_dict[mtd][9]*100)\n",
    "    this_list.append(load_dict_2[mtd][0]*100)\n",
    "    this_list.append(load_dict_2[mtd][1]*100)\n",
    "    this_list.append(load_dict_2[mtd][4]*100)\n",
    "    this_list.append(load_dict_2[mtd][9]*100)\n",
    "    this_list.append(load_dict_3[mtd][0]*100)\n",
    "    this_list.append(load_dict_3[mtd][1]*100)\n",
    "    this_list.append(load_dict_3[mtd][4]*100)\n",
    "    this_list.append(load_dict_3[mtd][9]*100)\n",
    "    this_list.append(load_dict_4[mtd][0]*100)\n",
    "    this_list.append(load_dict_4[mtd][1]*100)\n",
    "    this_list.append(load_dict_4[mtd][4]*100)\n",
    "    this_list.append(load_dict_4[mtd][9]*100)\n",
    "    table.append(this_list)\n",
    "\n",
    "print table"
   ]
  },
  {
   "cell_type": "code",
   "execution_count": 10,
   "metadata": {
    "collapsed": false
   },
   "outputs": [
    {
     "name": "stdout",
     "output_type": "stream",
     "text": [
      "\\begin{tabular}{lrrrrrrrrrrrrrrrr}\n",
      "\\hline\n",
      " Method         &   r = 1 &   r = 2 &   r = 5 &   r = 10 &   r = 1 &   r = 2 &   r = 5 &   r = 10 &   r = 1 &   r = 2 &   r = 5 &   r = 10 &   r = 1 &   r = 2 &   r = 5 &   r = 10 \\\\\n",
      "\\hline\n",
      " ours (GN, hnm) &   80.20 &   91.83 &   97.73 &    99.17 &   89.60 &   95.70 &   97.80 &    98.90 &   76.54 &   85.43 &   94.24 &    97.49 &   44.62 &   57.91 &   73.42 &    82.59 \\\\\n",
      " ImprovedDL     &   54.74 &   70.04 &   86.50 &    93.88 &   65.00 &   75.00 &   89.00 &    94.00 &   47.53 &   57.61 &   71.60 &    80.25 &   34.81 &   43.67 &   63.61 &    75.63 \\\\\n",
      " KISSME         &   14.17 &   22.30 &   37.46 &    52.20 &   29.40 &   41.74 &   60.18 &    74.44 &    0.00 &    0.00 &    0.00 &     0.00 &   19.60 &   28.32 &   48.00 &    62.20 \\\\\n",
      " FPNN           &   20.65 &   32.53 &   50.94 &    67.01 &   27.87 &   40.64 &   59.64 &    73.53 &    0.00 &    0.00 &    0.00 &     0.00 &   16.14 &   22.56 &   37.72 &    50.98 \\\\\n",
      " LDM            &   13.51 &   21.74 &   37.13 &    52.70 &   26.45 &   39.07 &   57.69 &    72.78 &    0.00 &    0.00 &    0.00 &     0.00 &   30.70 &   43.35 &   62.97 &    75.95 \\\\\n",
      " LMNN           &    7.29 &   11.18 &   19.64 &    30.74 &   21.17 &   31.65 &   48.51 &    62.98 &   13.45 &   20.41 &   31.33 &    42.25 &   20.66 &   26.92 &   42.00 &    56.18 \\\\\n",
      "\\hline\n",
      "\\end{tabular}\n"
     ]
    }
   ],
   "source": [
    "print tabulate(table,headers=[\"Method\",\"r = 1\", \"r = 2\" ,\"r = 5\", \"r = 10\",\"r = 1\", \"r = 2\" , \"r = 5\", \"r = 10\",\"r = 1\", \"r = 2\" , \"r = 5\", \"r = 10\",\"r = 1\", \"r = 2\" , \"r = 5\", \"r = 10\"], tablefmt=\"latex\",floatfmt=\".2f\")"
   ]
  },
  {
   "cell_type": "code",
   "execution_count": 36,
   "metadata": {
    "collapsed": false
   },
   "outputs": [
    {
     "ename": "NameError",
     "evalue": "name 'net' is not defined",
     "output_type": "error",
     "traceback": [
      "\u001b[1;31m---------------------------------------------------------------------------\u001b[0m",
      "\u001b[1;31mNameError\u001b[0m                                 Traceback (most recent call last)",
      "\u001b[1;32m<ipython-input-36-614c80a58242>\u001b[0m in \u001b[0;36m<module>\u001b[1;34m()\u001b[0m\n\u001b[1;32m----> 1\u001b[1;33m \u001b[0mnet\u001b[0m\u001b[1;33m.\u001b[0m\u001b[0mblobs\u001b[0m\u001b[1;33m[\u001b[0m\u001b[1;34m'data'\u001b[0m\u001b[1;33m]\u001b[0m\u001b[1;33m.\u001b[0m\u001b[0mdata\u001b[0m\u001b[1;33m.\u001b[0m\u001b[0mshape\u001b[0m\u001b[1;33m\u001b[0m\u001b[0m\n\u001b[0m",
      "\u001b[1;31mNameError\u001b[0m: name 'net' is not defined"
     ]
    }
   ],
   "source": [
    "net.blobs['data'].data.shape"
   ]
  },
  {
   "cell_type": "code",
   "execution_count": 5,
   "metadata": {
    "collapsed": false
   },
   "outputs": [
    {
     "name": "stdout",
     "output_type": "stream",
     "text": [
      "../../dataset/cuhk03/cuhk03_release/exp_set/set01_test_noval.txt\n",
      "\n",
      "Round 0 with rand list:\n",
      "  Processing 100x100 pairs cost 11.919126 second time\n",
      "Round 1 with rand list:\n",
      "  Processing 100x100 pairs cost 11.659333 second time\n",
      "Round 2 with rand list:\n",
      "  Processing 100x100 pairs cost 12.216511 second time\n",
      "[ 0.47666667  0.66        0.77        0.85333333  0.89333333  0.91666667\n",
      "  0.93333333  0.94666667  0.95        0.95333333  0.95666667  0.95666667\n",
      "  0.95666667  0.96        0.96666667  0.96666667  0.97        0.97333333\n",
      "  0.97666667  0.98        0.98333333  0.98333333  0.98666667  0.98666667\n",
      "  0.99        0.99333333  0.99666667  0.99666667  0.99666667  0.99666667\n",
      "  0.99666667  0.99666667  0.99666667  0.99666667  0.99666667  0.99666667\n",
      "  0.99666667  0.99666667  0.99666667  0.99666667  0.99666667  0.99666667\n",
      "  0.99666667  1.          1.          1.          1.          1.          1.\n",
      "  1.          1.          1.          1.          1.          1.          1.\n",
      "  1.          1.          1.          1.          1.          1.          1.\n",
      "  1.          1.          1.          1.          1.          1.          1.\n",
      "  1.          1.          1.          1.          1.          1.          1.\n",
      "  1.          1.          1.          1.          1.          1.          1.\n",
      "  1.          1.          1.          1.          1.          1.          1.\n",
      "  1.          1.          1.          1.          1.          1.          1.\n",
      "  1.          1.        ]\n",
      "\n",
      "CMC from rank 1 to rank 100:\n",
      "[ 0.47666667  0.66        0.77        0.85333333  0.89333333  0.91666667\n",
      "  0.93333333  0.94666667  0.95        0.95333333  0.95666667  0.95666667\n",
      "  0.95666667  0.96        0.96666667  0.96666667  0.97        0.97333333\n",
      "  0.97666667  0.98        0.98333333  0.98333333  0.98666667  0.98666667\n",
      "  0.99        0.99333333  0.99666667  0.99666667  0.99666667  0.99666667\n",
      "  0.99666667  0.99666667  0.99666667  0.99666667  0.99666667  0.99666667\n",
      "  0.99666667  0.99666667  0.99666667  0.99666667  0.99666667  0.99666667\n",
      "  0.99666667  1.          1.          1.          1.          1.          1.\n",
      "  1.          1.          1.          1.          1.          1.          1.\n",
      "  1.          1.          1.          1.          1.          1.          1.\n",
      "  1.          1.          1.          1.          1.          1.          1.\n",
      "  1.          1.          1.          1.          1.          1.          1.\n",
      "  1.          1.          1.          1.          1.          1.          1.\n",
      "  1.          1.          1.          1.          1.          1.          1.\n",
      "  1.          1.          1.          1.          1.          1.          1.\n",
      "  1.          1.        ]\n"
     ]
    }
   ],
   "source": [
    "test_list=range(1,2) #use set 1-10 for test (total 20)\n",
    "cmc_list=[]\n",
    "for set_no in test_list:\n",
    "    MODEL_FILE = '/mnt/disk01/image_aggregation/models/aggregation/deploy_reid.prototxt'\n",
    "    PRETRAINED = '/mnt/disk01/image_aggregation/output/faster_rcnn_end2end/voc_2007_trainval/aggregation_iter_70000.caffemodel'\n",
    "    caffe.set_device(1)\n",
    "    caffe.set_mode_gpu()\n",
    "    net = caffe.Classifier(MODEL_FILE, PRETRAINED,caffe.TEST)\n",
    "    #caculate CMC\n",
    "    cmc=calCMC(net,set_no,rand_times=3)\n",
    "    cmc_list.append(cmc)\n",
    "    print cmc\n",
    "    cmc_all=np.average(cmc_list,axis=0)\n",
    "print('\\nCMC from rank 1 to rank %d:'%(len(cmc_all)))\n",
    "print(cmc_all)\n",
    "cmcDict['ours (GN, hnm)'] = cmc_all"
   ]
  },
  {
   "cell_type": "code",
   "execution_count": 9,
   "metadata": {
    "collapsed": false
   },
   "outputs": [
    {
     "name": "stdout",
     "output_type": "stream",
     "text": [
      "../../dataset/cuhk03/cuhk03_release/exp_set/set01_test_noval.txt\n",
      "\n",
      "Round 0 with rand list:\n",
      "  Processing 100x100 pairs cost 5.904070 second time\n",
      "Round 1 with rand list:\n",
      "  Processing 100x100 pairs cost 5.856901 second time\n",
      "Round 2 with rand list:\n",
      "  Processing 100x100 pairs cost 5.899945 second time\n",
      "Round 3 with rand list:\n",
      "  Processing 100x100 pairs cost 5.858610 second time\n",
      "Round 4 with rand list:\n",
      "  Processing 100x100 pairs cost 5.909588 second time\n",
      "Round 5 with rand list:\n",
      "  Processing 100x100 pairs cost 6.464187 second time\n",
      "Round 6 with rand list:\n",
      "  Processing 100x100 pairs cost 6.483836 second time\n",
      "Round 7 with rand list:\n",
      "  Processing 100x100 pairs cost 6.350839 second time\n",
      "Round 8 with rand list:\n",
      "  Processing 100x100 pairs cost 6.332678 second time\n",
      "Round 9 with rand list:\n",
      "  Processing 100x100 pairs cost 6.271381 second time\n",
      "\n",
      "CMC from rank 1 to rank 100:\n",
      "[ 0.698  0.837  0.894  0.922  0.942  0.957  0.966  0.969  0.972  0.974\n",
      "  0.975  0.98   0.982  0.986  0.988  0.988  0.989  0.99   0.992  0.994\n",
      "  0.994  0.994  0.994  0.995  0.995  0.995  0.995  0.995  0.995  0.995\n",
      "  0.996  0.996  0.996  0.996  0.997  0.998  0.999  1.     1.     1.     1.\n",
      "  1.     1.     1.     1.     1.     1.     1.     1.     1.     1.     1.\n",
      "  1.     1.     1.     1.     1.     1.     1.     1.     1.     1.     1.\n",
      "  1.     1.     1.     1.     1.     1.     1.     1.     1.     1.     1.\n",
      "  1.     1.     1.     1.     1.     1.     1.     1.     1.     1.     1.\n",
      "  1.     1.     1.     1.     1.     1.     1.     1.     1.     1.     1.\n",
      "  1.     1.     1.     1.   ]\n"
     ]
    }
   ],
   "source": [
    "test_list=range(1,2) #use set 1-10 for test (total 20)\n",
    "cmc_list=[]\n",
    "for set_no in test_list:\n",
    "    #init net\n",
    "    cmc_list=[]\n",
    "    MODEL_FILE = '../../experiments/reid_earlyfusion_drop10/set01/deploy.prototxt'\n",
    "    PRETRAINED = '../../models/reid/earlyfusion/Trained/set01.caffemodel'\n",
    "    caffe.set_device(1)\n",
    "    caffe.set_mode_gpu()\n",
    "    net = caffe.Classifier(MODEL_FILE, PRETRAINED,caffe.TEST)\n",
    "    #caculate CMC\n",
    "    cmc=calCMC(net,set_no,rand_times=10)\n",
    "    cmc_list.append(cmc)\n",
    "    cmc_all=np.average(cmc_list,axis=0)\n",
    "    print('\\nCMC from rank 1 to rank %d:'%(len(cmc_all)))\n",
    "    print(cmc_all)\n",
    "cmcDict['ours (AN, no hnm)'] = cmc_all"
   ]
  },
  {
   "cell_type": "code",
   "execution_count": 10,
   "metadata": {
    "collapsed": false
   },
   "outputs": [
    {
     "name": "stdout",
     "output_type": "stream",
     "text": [
      "../../dataset/cuhk03/cuhk03_release/exp_set/set01_test_noval.txt\n",
      "\n",
      "Round 0 with rand list:\n",
      "  Processing 100x100 pairs cost 5.981060 second time\n",
      "Round 1 with rand list:\n",
      "  Processing 100x100 pairs cost 6.203623 second time\n",
      "Round 2 with rand list:\n",
      "  Processing 100x100 pairs cost 6.275085 second time\n",
      "Round 3 with rand list:\n",
      "  Processing 100x100 pairs cost 6.286905 second time\n",
      "Round 4 with rand list:\n",
      "  Processing 100x100 pairs cost 6.313950 second time\n",
      "Round 5 with rand list:\n",
      "  Processing 100x100 pairs cost 6.302935 second time\n",
      "Round 6 with rand list:\n",
      "  Processing 100x100 pairs cost 6.301185 second time\n",
      "Round 7 with rand list:\n",
      "  Processing 100x100 pairs cost 6.303447 second time\n",
      "Round 8 with rand list:\n",
      "  Processing 100x100 pairs cost 6.348055 second time\n",
      "Round 9 with rand list:\n",
      "  Processing 100x100 pairs cost 6.317782 second time\n",
      "\n",
      "CMC from rank 1 to rank 100:\n",
      "[ 0.707  0.868  0.916  0.939  0.951  0.959  0.971  0.977  0.98   0.984\n",
      "  0.985  0.985  0.988  0.988  0.988  0.989  0.989  0.99   0.99   0.99   0.99\n",
      "  0.992  0.993  0.993  0.995  0.995  0.995  0.995  0.995  0.995  0.995\n",
      "  0.995  0.995  0.995  0.995  0.995  0.995  0.995  0.995  0.995  0.995\n",
      "  0.995  0.995  0.995  0.995  0.995  0.995  0.995  0.995  0.995  0.995\n",
      "  0.996  0.997  0.997  0.997  0.997  0.998  1.     1.     1.     1.     1.\n",
      "  1.     1.     1.     1.     1.     1.     1.     1.     1.     1.     1.\n",
      "  1.     1.     1.     1.     1.     1.     1.     1.     1.     1.     1.\n",
      "  1.     1.     1.     1.     1.     1.     1.     1.     1.     1.     1.\n",
      "  1.     1.     1.     1.     1.   ]\n"
     ]
    }
   ],
   "source": [
    "test_list=range(1,2) #use set 1-10 for test (total 20)\n",
    "cmc_list=[]\n",
    "for set_no in test_list:\n",
    "    #init net\n",
    "    cmc_list=[]\n",
    "    MODEL_FILE = '../../experiments/reid_earlyfusion_drop10/set01/deploy.prototxt'\n",
    "    PRETRAINED = '../../models/reid/earlyfusion/Trained/set01_hnm.caffemodel'\n",
    "    caffe.set_device(1)\n",
    "    caffe.set_mode_gpu()\n",
    "    net = caffe.Classifier(MODEL_FILE, PRETRAINED,caffe.TEST)\n",
    "    #caculate CMC\n",
    "    cmc=calCMC(net,set_no,rand_times=10)\n",
    "    cmc_list.append(cmc)\n",
    "    cmc_all=np.average(cmc_list,axis=0)\n",
    "    print('\\nCMC from rank 1 to rank %d:'%(len(cmc_all)))\n",
    "    print(cmc_all)\n",
    "cmcDict['ours (AN, hnm)'] = cmc_all"
   ]
  },
  {
   "cell_type": "code",
   "execution_count": 14,
   "metadata": {
    "collapsed": false
   },
   "outputs": [
    {
     "data": {
      "image/png": "[encoded data removed]",
      "text/plain": [
       "<matplotlib.figure.Figure at 0x7f51837b4f90>"
      ]
     },
     "metadata": {},
     "output_type": "display_data"
    }
   ],
   "source": [
    "import scipy.io as sio\n",
    "data = sio.loadmat('cuhk03_labeled.mat')['data']\n",
    "cmcDict={}\n",
    "cmcDict['ImprovedDL'] = data[0]\n",
    "cmcDict['KISSME'] = data[1]\n",
    "#cmcDict['eSDC'] = data[2]\n",
    "#cmcDict['SDALF'] = data[3]\n",
    "cmcDict['LDM'] = data[4]\n",
    "#cmcDict['RANK'] = data[5]\n",
    "cmcDict['LMNN'] = data[6]\n",
    "#cmcDict['ITML'] = data[7]\n",
    "#cmcDict['Euclid'] = data[8]\n",
    "cmcDict['FPNN'] = data[9]\n",
    "#plot the dictionary, sorted by rank1 rate\n",
    "cmcDict['DCSL (GN, hnm)'] = load_list['ours (GN, hnm)']\n",
    "cmcDict['DCSL (AN, hnm)'] = load_list['ours (AN, hnm)']\n",
    "cmcDict['DCSL (GN, no hnm)'] = load_list['ours (GN, no hnm)']\n",
    "cmcDict['DCSL (AN, no hnm)'] = load_list['ours (AN, no hnm)']\n",
    "save_path = '../../paper/cuhk03_labeled_set01.png'\n",
    "plotCMC(cmcDict,save_path)"
   ]
  },
  {
   "cell_type": "code",
   "execution_count": 12,
   "metadata": {
    "collapsed": true
   },
   "outputs": [],
   "source": [
    "f1 = open(\"res_cuhk03.txt\",\"wb\")\n",
    "pickle.dump(cmcDict, f1)\n",
    "f1.close()"
   ]
  },
  {
   "cell_type": "markdown",
   "metadata": {
    "collapsed": false
   },
   "source": [
    "# Just for Debug"
   ]
  },
  {
   "cell_type": "code",
   "execution_count": 11,
   "metadata": {
    "collapsed": false,
    "scrolled": false
   },
   "outputs": [],
   "source": [
    "import pickle\n",
    "f2 = open(\"res_cuhk03.txt\",\"rb\")\n",
    "load_list = pickle.load(f2)\n",
    "f2.close()\n",
    "# print \n",
    "import scipy.io as sio\n",
    "data = sio.loadmat('cuhk03_labeled.mat')['data']\n",
    "\n",
    "load_list['LDM'] = data[4]\n",
    "load_list['LMNN'] = data[6]\n",
    "#plot the dictionary, sorted by rank1 rate"
   ]
  },
  {
   "cell_type": "code",
   "execution_count": 12,
   "metadata": {
    "collapsed": false
   },
   "outputs": [
    {
     "data": {
      "image/png": "[encoded data removed]",
      "text/plain": [
       "<matplotlib.figure.Figure at 0x7f5181a9f890>"
      ]
     },
     "metadata": {},
     "output_type": "display_data"
    }
   ],
   "source": [
    "save_path = '../../paper/cuhk03_labeled_set01.png'\n",
    "plotCMC(load_list,save_path)"
   ]
  },
  {
   "cell_type": "code",
   "execution_count": 52,
   "metadata": {
    "collapsed": false
   },
   "outputs": [
    {
     "name": "stdout",
     "output_type": "stream",
     "text": [
      "[ 0.707  0.868  0.916  0.939  0.951  0.959  0.971  0.977  0.98   0.984\n",
      "  0.985  0.985  0.988  0.988  0.988  0.989  0.989  0.99   0.99   0.99   0.99\n",
      "  0.992  0.993  0.993  0.995  0.995  0.995  0.995  0.995  0.995  0.995\n",
      "  0.995  0.995  0.995  0.995  0.995  0.995  0.995  0.995  0.995  0.995\n",
      "  0.995  0.995  0.995  0.995  0.995  0.995  0.995  0.995  0.995  0.995\n",
      "  0.996  0.997  0.997  0.997  0.997  0.998  1.     1.     1.     1.     1.\n",
      "  1.     1.     1.     1.     1.     1.     1.     1.     1.     1.     1.\n",
      "  1.     1.     1.     1.     1.     1.     1.     1.     1.     1.     1.\n",
      "  1.     1.     1.     1.     1.     1.     1.     1.     1.     1.     1.\n",
      "  1.     1.     1.     1.     1.   ]\n"
     ]
    }
   ],
   "source": [
    "print load_list['ours (AN, hnm)']"
   ]
  },
  {
   "cell_type": "code",
   "execution_count": 17,
   "metadata": {
    "collapsed": false
   },
   "outputs": [
    {
     "name": "stdout",
     "output_type": "stream",
     "text": [
      "../../dataset/cuhk03/cuhk03_release/exp_set/set02_test_noval.txt\n",
      "\n",
      "  Processing 100x100 pairs cost 16.796558 second time\n"
     ]
    }
   ],
   "source": [
    "from cmc import evaluateCMC\n",
    "DATA_DIR= '../../dataset/cuhk03/cuhk03_release/'\n",
    "set_no=2\n",
    "list_name=DATA_DIR+'exp_set/set%02d_test_noval.txt'%(set_no)\n",
    "print list_name+'\\n'\n",
    "#rand 10 times for stable result\n",
    "cmc_list=[]\n",
    "\n",
    "probes,gallerys=readList(list_name)\n",
    "scoreList,predictLists=generateScoreList(net,probes,gallerys)"
   ]
  },
  {
   "cell_type": "code",
   "execution_count": 10,
   "metadata": {
    "collapsed": true
   },
   "outputs": [],
   "source": [
    "def im_read(filename):\n",
    "    I = plt.imread(filename)\n",
    "\n",
    "    I_rs = cv2.resize(I,(60,160))\n",
    "    \n",
    "    return I_rs"
   ]
  },
  {
   "cell_type": "code",
   "execution_count": 16,
   "metadata": {
    "collapsed": true
   },
   "outputs": [],
   "source": [
    "MODEL_FILE = '../../experiments/reid_earlyfusion/set01/deploy_google_bigmap.prototxt'\n",
    "PRETRAINED = '../../experiments/reid_earlyfusion_google_bigmap/set02/Snapshots/set02_hnm_iter_20000.caffemodel'\n",
    "caffe.set_device(1)\n",
    "caffe.set_mode_gpu()\n",
    "net = caffe.Classifier(MODEL_FILE, PRETRAINED,caffe.TEST)"
   ]
  },
  {
   "cell_type": "code",
   "execution_count": 6,
   "metadata": {
    "collapsed": false,
    "scrolled": false
   },
   "outputs": [],
   "source": [
    "import matplotlib.pyplot as plt\n",
    "import cv2\n",
    "get_ipython().magic(u'matplotlib inline')\n",
    "top_k = 10\n",
    "imshow = 100\n",
    "img_num = 0\n",
    "plt.figure(figsize=(top_k*2,imshow*4))\n",
    "\n",
    "for i in range(imshow):\n",
    "    image_name = probes[i]\n",
    "    \n",
    "    plt.subplot(imshow,top_k+1,img_num+1)\n",
    "    plt.imshow(im_read(image_name))\n",
    "    frame = plt.gca()\n",
    "    frame.axes.get_xaxis().set_visible(False)\n",
    "    frame.axes.get_yaxis().set_visible(False)\n",
    "    frame.axes.xaxis.set_tick_params([])\n",
    "    frame.axes.yaxis.set_tick_params([])\n",
    "    for key in frame.spines.keys():\n",
    "        obj=frame.spines[key]\n",
    "        obj.set_linewidth(4)\n",
    "        obj.set_color('b')\n",
    "    img_num+=1\n",
    "    for j in range(top_k):\n",
    "    \n",
    "        image_name = gallerys[predictLists[i][j]]\n",
    "        \n",
    "        plt.subplot(imshow,top_k+1,img_num+1)\n",
    "        plt.imshow(im_read(image_name))\n",
    "        frame = plt.gca()\n",
    "        frame.axes.get_xaxis().set_visible(False)\n",
    "        frame.axes.get_yaxis().set_visible(False)\n",
    "        frame.axes.xaxis.set_tick_params([])\n",
    "        frame.axes.yaxis.set_tick_params([])\n",
    "        if i==predictLists[i][j]:\n",
    "            for key in frame.spines.keys():\n",
    "                obj=frame.spines[key]\n",
    "                obj.set_linewidth(4)\n",
    "                obj.set_color('g')\n",
    "        img_num+=1"
   ]
  },
  {
   "cell_type": "code",
   "execution_count": null,
   "metadata": {
    "collapsed": true
   },
   "outputs": [],
   "source": []
  }
 ],
 "metadata": {
  "kernelspec": {
   "display_name": "Python 2",
   "language": "python",
   "name": "python2"
  },
  "language_info": {
   "codemirror_mode": {
    "name": "ipython",
    "version": 2
   },
   "file_extension": ".py",
   "mimetype": "text/x-python",
   "name": "python",
   "nbconvert_exporter": "python",
   "pygments_lexer": "ipython2",
   "version": "2.7.11"
  }
 },
 "nbformat": 4,
 "nbformat_minor": 0
}
